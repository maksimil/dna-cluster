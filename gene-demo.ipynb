{
 "cells": [
  {
   "cell_type": "code",
   "execution_count": null,
   "id": "4e2d4ec4-a21f-42ea-a799-cf7cfc8ade97",
   "metadata": {},
   "outputs": [],
   "source": [
    "import csv\n",
    "import numpy as np\n",
    "from matplotlib import pyplot as plt\n",
    "import sklearn\n",
    "import clustergenes\n",
    "import math\n",
    "from tqdm.auto import tqdm\n",
    "\n",
    "%matplotlib inline"
   ]
  },
  {
   "cell_type": "code",
   "execution_count": null,
   "id": "dcb9f088-b062-4dca-9a30-a44a96d8a1b6",
   "metadata": {},
   "outputs": [],
   "source": [
    "# Parse gene file\n",
    "\n",
    "gene_names = []\n",
    "patient_data = []\n",
    "with open(\"./gene-data.csv\", \"r\") as datafile:\n",
    "    datacsv = csv.reader(datafile)\n",
    "    header = next(datacsv)\n",
    "    patient_data = [[] for _ in range(len(header) - 1)]\n",
    "    npatients = len(patient_data)\n",
    "    \n",
    "    for line in datacsv:\n",
    "        gene_names.append(line[0])\n",
    "        assert(npatients+1 == len(line))\n",
    "\n",
    "        for i in range(npatients):\n",
    "            patient_data[i].append(float(line[i+1]))\n",
    "patient_data = np.array(patient_data)"
   ]
  },
  {
   "cell_type": "code",
   "execution_count": null,
   "id": "743135b1-7e23-4186-9b2a-c672b5845697",
   "metadata": {},
   "outputs": [],
   "source": [
    "# Show concentrations\n",
    "\n",
    "fig, ax = plt.subplots(figsize=(12, 6))\n",
    "im = ax.imshow(patient_data.T, aspect=\"auto\", cmap=\"magma\", vmin=-10, vmax=15)\n",
    "fig.colorbar(im, ax=ax)\n",
    "\n",
    "plt.show()\n",
    "\n",
    "fig.subplots_adjust(left=0.05, right=1.07, bottom=0.05, top=0.97)\n",
    "fig.savefig(\"./slides/figures/full_genes.eps\")\n"
   ]
  },
  {
   "cell_type": "code",
   "execution_count": null,
   "id": "151882ae-502f-46ac-baa1-e7c47f1d6f72",
   "metadata": {},
   "outputs": [],
   "source": [
    "clustering = clustergenes.GeneCluster(patient_data=patient_data)\n",
    "\n",
    "for interval in clustering.intervals:\n",
    "    n = interval[\"nclusters\"]\n",
    "    plen = interval[\"p_length\"]\n",
    "    print(f\"n={n:4}, plen={plen:6.2f}\")"
   ]
  },
  {
   "cell_type": "code",
   "execution_count": null,
   "id": "861688ad-e87b-40f2-b710-7857656dabe8",
   "metadata": {},
   "outputs": [],
   "source": [
    "# Rearrage patient data\n",
    "\n",
    "n_clusters = clustering.intervals[0][\"nclusters\"]\n",
    "clusters = clustering.get_clusters(n_clusters)\n",
    "\n",
    "fig, axs = plt.subplots(math.ceil(n_clusters/3), 3, figsize=(16, 8))\n",
    "axs = axs.flatten()\n",
    "\n",
    "for i in range(n_clusters):\n",
    "    cluster_patients = []\n",
    "    for j in clusters[i]:\n",
    "        cluster_patients.append(patient_data[j])\n",
    "    cluster_patients = np.array(cluster_patients)\n",
    "    axs[i].imshow(cluster_patients.T, aspect=\"auto\", cmap=\"magma\")\n",
    "\n",
    "fig.subplots_adjust(left=0.03, right=0.99, bottom=0.05, top=0.98)\n",
    "fig.savefig(\"./slides/figures/result.eps\")\n",
    "\n",
    "plt.show()"
   ]
  },
  {
   "cell_type": "code",
   "execution_count": null,
   "id": "4a362250-c9f9-4e33-8c15-57660c20443e",
   "metadata": {},
   "outputs": [],
   "source": []
  }
 ],
 "metadata": {
  "kernelspec": {
   "display_name": "Python 3 (ipykernel)",
   "language": "python",
   "name": "python3"
  },
  "language_info": {
   "codemirror_mode": {
    "name": "ipython",
    "version": 3
   },
   "file_extension": ".py",
   "mimetype": "text/x-python",
   "name": "python",
   "nbconvert_exporter": "python",
   "pygments_lexer": "ipython3",
   "version": "3.10.12"
  }
 },
 "nbformat": 4,
 "nbformat_minor": 5
}
